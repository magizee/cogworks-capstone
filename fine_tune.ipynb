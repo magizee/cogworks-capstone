{
 "cells": [
  {
   "cell_type": "code",
   "execution_count": 5,
   "metadata": {},
   "outputs": [],
   "source": [
    "import torch\n",
    "import torch.nn as nn\n",
    "import torch.optim as optim"
   ]
  },
  {
   "cell_type": "code",
   "execution_count": 6,
   "metadata": {},
   "outputs": [],
   "source": [
    "from phoneme import initialize_model, get_needed_data"
   ]
  },
  {
   "cell_type": "code",
   "execution_count": 7,
   "metadata": {},
   "outputs": [
    {
     "name": "stderr",
     "output_type": "stream",
     "text": [
      "c:\\Users\\kavya\\anaconda3\\envs\\accent-capstone\\lib\\site-packages\\transformers\\modeling_utils.py:1439: FutureWarning: You are using `torch.load` with `weights_only=False` (the current default value), which uses the default pickle module implicitly. It is possible to construct malicious pickle data which will execute arbitrary code during unpickling (See https://github.com/pytorch/pytorch/blob/main/SECURITY.md#untrusted-models for more details). In a future release, the default value for `weights_only` will be flipped to `True`. This limits the functions that could be executed during unpickling. Arbitrary objects will no longer be allowed to be loaded via this mode unless they are explicitly allowlisted by the user via `torch.serialization.add_safe_globals`. We recommend you start setting `weights_only=True` for any use case where you don't have full control of the loaded file. Please open an issue on GitHub for any issues related to this experimental feature.\n",
      "  state_dict = torch.load(resolved_archive_file, map_location=\"cpu\")\n",
      "c:\\Users\\kavya\\anaconda3\\envs\\accent-capstone\\lib\\site-packages\\torch\\nn\\utils\\weight_norm.py:134: FutureWarning: `torch.nn.utils.weight_norm` is deprecated in favor of `torch.nn.utils.parametrizations.weight_norm`.\n",
      "  WeightNorm.apply(module, name, dim)\n",
      "Some weights of Wav2Vec2ForCTC were not initialized from the model checkpoint at facebook/wav2vec2-base-960h and are newly initialized: ['wav2vec2.masked_spec_embed']\n",
      "You should probably TRAIN this model on a down-stream task to be able to use it for predictions and inference.\n"
     ]
    }
   ],
   "source": [
    "processor, model, device = initialize_model()"
   ]
  },
  {
   "cell_type": "code",
   "execution_count": null,
   "metadata": {},
   "outputs": [],
   "source": [
    "output = {}\n",
    "#load data"
   ]
  },
  {
   "cell_type": "code",
   "execution_count": 8,
   "metadata": {},
   "outputs": [],
   "source": [
    "# Second define your dataloader to give inputs, targets, input_length and target_length\n",
    "dataloader = []\n",
    "for wav_path, txt_path, phn_path in output:\n",
    "    dataloader.append(get_needed_data(wav_path, txt_path, phn_path))\n",
    " \n",
    "ctc_loss = nn.CTCLoss()\n",
    "optimizer = torch.optim.Adam(model.parameters(), lr=1e-4)\n",
    "\n",
    "num_epochs = 1 #3\n",
    "max_grad_norm = 1.0"
   ]
  },
  {
   "cell_type": "code",
   "execution_count": null,
   "metadata": {},
   "outputs": [],
   "source": [
    "for epoch in range(num_epochs):\n",
    "    model.train()\n",
    "    for _, _, inputs, targets, _, target_lengths in dataloader:\n",
    "        optimizer.zero_grad()\n",
    "        print(inputs)\n",
    "        outputs = model(inputs).logits\n",
    "        outputs = outputs.transpose(0, 1)\n",
    "        #print(outputs.shape)\n",
    "        print(outputs)\n",
    "        print(outputs[0])\n",
    "\n",
    "        if torch.isnan(outputs).any():\n",
    "            print(\"NaN detected in outputs\")\n",
    "            continue\n",
    "        \n",
    "        input_lengths = torch.tensor([outputs.shape[0]], dtype=torch.int32)\n",
    "        target_lengths = target_lengths.to(torch.int32)\n",
    "\n",
    "        print(targets)\n",
    "        loss = ctc_loss(outputs, targets, input_lengths, target_lengths)\n",
    "        print(f'loss: {loss}')\n",
    "        loss.backward()\n",
    "        \n",
    "        torch.nn.utils.clip_grad_norm_(model.parameters(), max_grad_norm)\n",
    "        \n",
    "        optimizer.step()\n",
    "    \n",
    "    # Validation\n",
    "    model.eval()\n",
    "    val_loss = 0\n",
    "    with torch.no_grad():\n",
    "        for _, _, inputs, targets, input_lengths, target_lengths in val_dataloader:\n",
    "            outputs = model(inputs).logits\n",
    "            outputs = outputs.transpose(0, 1)\n",
    "            input_lengths = torch.tensor([outputs.shape[0]], dtype=torch.int32)\n",
    "            target_lengths = target_lengths.to(torch.int32)\n",
    "            loss = ctc_loss(outputs, targets, input_lengths, target_lengths)\n",
    "            val_loss += loss.item()\n",
    "    \n",
    "    val_loss /= len(val_dataloader)\n",
    "    print(f\"Epoch {epoch + 1}/{num_epochs}, Validation Loss: {val_loss:.4f}\")"
   ]
  }
 ],
 "metadata": {
  "kernelspec": {
   "display_name": "week4",
   "language": "python",
   "name": "python3"
  },
  "language_info": {
   "codemirror_mode": {
    "name": "ipython",
    "version": 3
   },
   "file_extension": ".py",
   "mimetype": "text/x-python",
   "name": "python",
   "nbconvert_exporter": "python",
   "pygments_lexer": "ipython3",
   "version": "3.8.19"
  }
 },
 "nbformat": 4,
 "nbformat_minor": 2
}
