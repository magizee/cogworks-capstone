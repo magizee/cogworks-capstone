{
 "cells": [
  {
   "cell_type": "code",
   "execution_count": null,
   "metadata": {},
   "outputs": [],
   "source": [
    "def get_needed_data(path):\n",
    "    audio_arr = speech_file_to_array(path+'.WAV')\n",
    "    token = processor(audio_arr, sampling_rate=16000, return_tensors=\"pt\").input_values\n",
    "    phenome_abs = phenome_abstraction(path+'.PHN')\n",
    "    line = sentence_being_read(path+'.TXT')\n",
    "    return audio_arr, token, phenome_abs, line"
   ]
  },
  {
   "cell_type": "code",
   "execution_count": null,
   "metadata": {},
   "outputs": [],
   "source": [
    "from transformers import Wav2Vec2ForCTC, Wav2Vec2Processor"
   ]
  },
  {
   "cell_type": "code",
   "execution_count": null,
   "metadata": {},
   "outputs": [],
   "source": [
    "# Load pre-trained Wav2Vec 2.0 model\n",
    "model = Wav2Vec2ForCTC.from_pretrained(\"facebook/wav2vec2-large-960h\")\n",
    "\n",
    "# Load processor\n",
    "processor = Wav2Vec2Processor.from_pretrained(\"facebook/wav2vec2-large-960h\")"
   ]
  },
  {
   "cell_type": "code",
   "execution_count": null,
   "metadata": {},
   "outputs": [],
   "source": [
    "def read_phenome_file(phn_path):\n",
    "    phonetic_segments = []\n",
    "    with open(phn_path, 'r') as file:\n",
    "        for line in file:\n",
    "            line = line.strip()\n",
    "            _, _, label = line.split()\n",
    "            phonetic_segments.append(label)\n",
    "    return phonetic_segments\n",
    "\n",
    "def del_unnecessary_phonetic(x):\n",
    "    return x[1:-1] # remove h#\n",
    "\n",
    "# Convert phonetic code to IPA represented in one character\n",
    "def convert_to_ipa(phoneme): # phoneme is the phonetic list\n",
    "    phoneme_abstract = ''.join([arphabet_to_ipa[code] for code in phoneme])\n",
    "    return phoneme_abstract"
   ]
  }
 ],
 "metadata": {
  "kernelspec": {
   "display_name": "week4",
   "language": "python",
   "name": "python3"
  },
  "language_info": {
   "codemirror_mode": {
    "name": "ipython",
    "version": 3
   },
   "file_extension": ".py",
   "mimetype": "text/x-python",
   "name": "python",
   "nbconvert_exporter": "python",
   "pygments_lexer": "ipython3",
   "version": "3.12.4"
  }
 },
 "nbformat": 4,
 "nbformat_minor": 2
}
