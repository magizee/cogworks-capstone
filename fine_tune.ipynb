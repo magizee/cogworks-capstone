{
 "cells": [
  {
   "cell_type": "code",
   "execution_count": 1,
   "metadata": {},
   "outputs": [],
   "source": [
    "import torch\n",
    "import torch.nn as nn\n",
    "import torch.optim as optim"
   ]
  },
  {
   "cell_type": "code",
   "execution_count": 2,
   "metadata": {},
   "outputs": [],
   "source": [
    "from interface.TimitInterface import TimitInterface\n",
    "from phoneme import initialize_model, get_needed_data"
   ]
  },
  {
   "cell_type": "code",
   "execution_count": 8,
   "metadata": {},
   "outputs": [
    {
     "name": "stderr",
     "output_type": "stream",
     "text": [
      "c:\\Users\\kavya\\anaconda3\\envs\\accent-capstone\\lib\\site-packages\\transformers\\modeling_utils.py:1439: FutureWarning: You are using `torch.load` with `weights_only=False` (the current default value), which uses the default pickle module implicitly. It is possible to construct malicious pickle data which will execute arbitrary code during unpickling (See https://github.com/pytorch/pytorch/blob/main/SECURITY.md#untrusted-models for more details). In a future release, the default value for `weights_only` will be flipped to `True`. This limits the functions that could be executed during unpickling. Arbitrary objects will no longer be allowed to be loaded via this mode unless they are explicitly allowlisted by the user via `torch.serialization.add_safe_globals`. We recommend you start setting `weights_only=True` for any use case where you don't have full control of the loaded file. Please open an issue on GitHub for any issues related to this experimental feature.\n",
      "  state_dict = torch.load(resolved_archive_file, map_location=\"cpu\")\n",
      "c:\\Users\\kavya\\anaconda3\\envs\\accent-capstone\\lib\\site-packages\\torch\\nn\\utils\\weight_norm.py:134: FutureWarning: `torch.nn.utils.weight_norm` is deprecated in favor of `torch.nn.utils.parametrizations.weight_norm`.\n",
      "  WeightNorm.apply(module, name, dim)\n",
      "Some weights of Wav2Vec2ForCTC were not initialized from the model checkpoint at facebook/wav2vec2-base-960h and are newly initialized: ['wav2vec2.masked_spec_embed']\n",
      "You should probably TRAIN this model on a down-stream task to be able to use it for predictions and inference.\n"
     ]
    }
   ],
   "source": [
    "processor, model, device = initialize_model()"
   ]
  },
  {
   "cell_type": "code",
   "execution_count": 4,
   "metadata": {},
   "outputs": [
    {
     "data": {
      "application/vnd.jupyter.widget-view+json": {
       "model_id": "e006f34718af4e8cbbd72e5d04f15fe8",
       "version_major": 2,
       "version_minor": 0
      },
      "text/plain": [
       "0it [00:00, ?it/s]"
      ]
     },
     "metadata": {},
     "output_type": "display_data"
    },
    {
     "data": {
      "application/vnd.jupyter.widget-view+json": {
       "model_id": "6c58a6ca9c7849209326821d1ffec705",
       "version_major": 2,
       "version_minor": 0
      },
      "text/plain": [
       "Map:   0%|          | 0/2688 [00:00<?, ? examples/s]"
      ]
     },
     "metadata": {},
     "output_type": "display_data"
    },
    {
     "data": {
      "application/vnd.jupyter.widget-view+json": {
       "model_id": "f97fba0a0a734d7fb535f18e0c414013",
       "version_major": 2,
       "version_minor": 0
      },
      "text/plain": [
       "Map:   0%|          | 0/336 [00:00<?, ? examples/s]"
      ]
     },
     "metadata": {},
     "output_type": "display_data"
    },
    {
     "data": {
      "application/vnd.jupyter.widget-view+json": {
       "model_id": "d589a69490b4450aba967981ea1c0ce2",
       "version_major": 2,
       "version_minor": 0
      },
      "text/plain": [
       "Map:   0%|          | 0/336 [00:00<?, ? examples/s]"
      ]
     },
     "metadata": {},
     "output_type": "display_data"
    }
   ],
   "source": [
    "dataset = TimitInterface()"
   ]
  },
  {
   "cell_type": "code",
   "execution_count": 5,
   "metadata": {},
   "outputs": [],
   "source": [
    "val_data = dataset.valid\n",
    "train_data = dataset.train"
   ]
  },
  {
   "cell_type": "code",
   "execution_count": 9,
   "metadata": {},
   "outputs": [],
   "source": [
    "data = {}\n",
    "#load data"
   ]
  },
  {
   "cell_type": "code",
   "execution_count": 6,
   "metadata": {},
   "outputs": [],
   "source": [
    "train_output = list(map(lambda v: (v['audio_file'], v['word_file'], v['phonetic_file']), train_data.values()))\n",
    "val_output = list(map(lambda v: (v['audio_file'], v['word_file'], v['phonetic_file']), val_data.values()))"
   ]
  },
  {
   "cell_type": "code",
   "execution_count": 9,
   "metadata": {},
   "outputs": [
    {
     "ename": "NameError",
     "evalue": "name 'processor' is not defined",
     "output_type": "error",
     "traceback": [
      "\u001b[1;31m---------------------------------------------------------------------------\u001b[0m",
      "\u001b[1;31mNameError\u001b[0m                                 Traceback (most recent call last)",
      "Cell \u001b[1;32mIn[9], line 5\u001b[0m\n\u001b[0;32m      3\u001b[0m val_dataloader \u001b[38;5;241m=\u001b[39m []\n\u001b[0;32m      4\u001b[0m \u001b[38;5;28;01mfor\u001b[39;00m wav_path, txt_path, phn_path \u001b[38;5;129;01min\u001b[39;00m train_output:\n\u001b[1;32m----> 5\u001b[0m     train_dataloader\u001b[38;5;241m.\u001b[39mappend(\u001b[43mget_needed_data\u001b[49m\u001b[43m(\u001b[49m\u001b[43mwav_path\u001b[49m\u001b[43m,\u001b[49m\u001b[43m \u001b[49m\u001b[43mtxt_path\u001b[49m\u001b[43m,\u001b[49m\u001b[43m \u001b[49m\u001b[43mphn_path\u001b[49m\u001b[43m)\u001b[49m)\n\u001b[0;32m      7\u001b[0m \u001b[38;5;28;01mfor\u001b[39;00m wav_path, txt_path, phn_path \u001b[38;5;129;01min\u001b[39;00m val_output:\n\u001b[0;32m      8\u001b[0m     val_dataloader\u001b[38;5;241m.\u001b[39mappend(get_needed_data(wav_path, txt_path, phn_path))\n",
      "File \u001b[1;32mc:\\Users\\kavya\\Documents\\GitHub\\cogworks-capstone\\phoneme.py:125\u001b[0m, in \u001b[0;36mget_needed_data\u001b[1;34m(wav_path, txt_path, phn_path)\u001b[0m\n\u001b[0;32m    123\u001b[0m \u001b[38;5;28;01mdef\u001b[39;00m \u001b[38;5;21mget_needed_data\u001b[39m(wav_path, txt_path, phn_path):\n\u001b[0;32m    124\u001b[0m     audio_arr \u001b[38;5;241m=\u001b[39m speech_file_to_array(wav_path)\n\u001b[1;32m--> 125\u001b[0m     token \u001b[38;5;241m=\u001b[39m (\u001b[43mprocessor\u001b[49m(audio_arr, sampling_rate\u001b[38;5;241m=\u001b[39m\u001b[38;5;241m16000\u001b[39m, padding\u001b[38;5;241m=\u001b[39m\u001b[38;5;28;01mTrue\u001b[39;00m, return_tensors\u001b[38;5;241m=\u001b[39m\u001b[38;5;124m\"\u001b[39m\u001b[38;5;124mpt\u001b[39m\u001b[38;5;124m\"\u001b[39m)\u001b[38;5;241m.\u001b[39minput_values)\u001b[38;5;241m.\u001b[39mto(device)\n\u001b[0;32m    126\u001b[0m     phoneme_abs \u001b[38;5;241m=\u001b[39m phoneme_abstraction(phn_path)\n\u001b[0;32m    127\u001b[0m     phoneme_token \u001b[38;5;241m=\u001b[39m torch\u001b[38;5;241m.\u001b[39mtensor(phoneme_abs, dtype\u001b[38;5;241m=\u001b[39mtorch\u001b[38;5;241m.\u001b[39mint32)\n",
      "\u001b[1;31mNameError\u001b[0m: name 'processor' is not defined"
     ]
    }
   ],
   "source": [
    "# Second define your dataloader to give inputs, targets, input_length and target_length\n",
    "train_dataloader = []\n",
    "val_dataloader = []\n",
    "for wav_path, txt_path, phn_path in train_output:\n",
    "    train_dataloader.append(get_needed_data(wav_path, txt_path, phn_path))\n",
    "\n",
    "for wav_path, txt_path, phn_path in val_output:\n",
    "    val_dataloader.append(get_needed_data(wav_path, txt_path, phn_path))\n",
    "\n",
    "ctc_loss = nn.CTCLoss()\n",
    "optimizer = torch.optim.Adam(model.parameters(), lr=1e-4)\n",
    "\n",
    "num_epochs = 1 #3\n",
    "max_grad_norm = 1.0"
   ]
  },
  {
   "cell_type": "code",
   "execution_count": null,
   "metadata": {},
   "outputs": [],
   "source": [
    "for epoch in range(num_epochs):\n",
    "    model.train()\n",
    "    for _, _, inputs, targets, _, target_lengths in dataloader:\n",
    "        optimizer.zero_grad()\n",
    "        print(inputs)\n",
    "        outputs = model(inputs).logits\n",
    "        outputs = outputs.transpose(0, 1)\n",
    "        #print(outputs.shape)\n",
    "        print(outputs)\n",
    "        print(outputs[0])\n",
    "\n",
    "        if torch.isnan(outputs).any():\n",
    "            print(\"NaN detected in outputs\")\n",
    "            continue\n",
    "        \n",
    "        input_lengths = torch.tensor([outputs.shape[0]], dtype=torch.int32)\n",
    "        target_lengths = target_lengths.to(torch.int32)\n",
    "\n",
    "        # Calculate log probabilities\n",
    "        log_probs = torch.log_softmax(outputs, dim=-1)\n",
    "        print(f'log_probs: {log_probs}')\n",
    "        # Get predicted indices\n",
    "        predicted_indices = torch.argmax(log_probs, dim=-1)  # (seq_len, batch_size)\n",
    "        # Print or store the phoneme predictions\n",
    "        print(\"Phoneme Predictions:\", predicted_indices)\n",
    "        \n",
    "        print(targets)\n",
    "        loss = ctc_loss(outputs, targets, input_lengths, target_lengths)\n",
    "        print(f'loss: {loss}')\n",
    "        loss.backward()\n",
    "        \n",
    "        torch.nn.utils.clip_grad_norm_(model.parameters(), max_grad_norm)\n",
    "        \n",
    "        optimizer.step()\n",
    "    \n",
    "    # Validation\n",
    "    model.eval()\n",
    "    val_loss = 0\n",
    "    with torch.no_grad():\n",
    "        for _, _, inputs, targets, _, target_lengths in val_dataloader:\n",
    "            outputs = model(inputs).logits\n",
    "            outputs = outputs.transpose(0, 1)\n",
    "            input_lengths = torch.tensor([outputs.shape[0]], dtype=torch.int32)\n",
    "            target_lengths = target_lengths.to(torch.int32)\n",
    "            loss = ctc_loss(outputs, targets, input_lengths, target_lengths)\n",
    "            val_loss += loss.item()\n",
    "    \n",
    "    val_loss /= len(val_dataloader)\n",
    "    print(f\"Epoch {epoch + 1}/{num_epochs}, Validation Loss: {val_loss:.4f}\")"
   ]
  }
 ],
 "metadata": {
  "kernelspec": {
   "display_name": "week4",
   "language": "python",
   "name": "python3"
  },
  "language_info": {
   "codemirror_mode": {
    "name": "ipython",
    "version": 3
   },
   "file_extension": ".py",
   "mimetype": "text/x-python",
   "name": "python",
   "nbconvert_exporter": "python",
   "pygments_lexer": "ipython3",
   "version": "3.8.19"
  }
 },
 "nbformat": 4,
 "nbformat_minor": 2
}
