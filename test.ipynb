{
 "cells": [
  {
   "cell_type": "markdown",
   "metadata": {},
   "source": [
    "checking whether the model loads, have no clue abt dtw and others"
   ]
  },
  {
   "cell_type": "code",
   "execution_count": 1,
   "metadata": {},
   "outputs": [
    {
     "name": "stderr",
     "output_type": "stream",
     "text": [
      "c:\\Users\\kavya\\anaconda3\\envs\\accent-capstone\\lib\\site-packages\\transformers\\modeling_utils.py:1331: FutureWarning: You are using `torch.load` with `weights_only=False` (the current default value), which uses the default pickle module implicitly. It is possible to construct malicious pickle data which will execute arbitrary code during unpickling (See https://github.com/pytorch/pytorch/blob/main/SECURITY.md#untrusted-models for more details). In a future release, the default value for `weights_only` will be flipped to `True`. This limits the functions that could be executed during unpickling. Arbitrary objects will no longer be allowed to be loaded via this mode unless they are explicitly allowlisted by the user via `torch.serialization.add_safe_globals`. We recommend you start setting `weights_only=True` for any use case where you don't have full control of the loaded file. Please open an issue on GitHub for any issues related to this experimental feature.\n",
      "  state_dict = torch.load(resolved_archive_file, map_location=\"cpu\")\n",
      "c:\\Users\\kavya\\anaconda3\\envs\\accent-capstone\\lib\\site-packages\\torch\\nn\\utils\\weight_norm.py:134: FutureWarning: `torch.nn.utils.weight_norm` is deprecated in favor of `torch.nn.utils.parametrizations.weight_norm`.\n",
      "  WeightNorm.apply(module, name, dim)\n",
      "Special tokens have been added in the vocabulary, make sure the associated word embeddings are fine-tuned or trained.\n"
     ]
    }
   ],
   "source": [
    "from transformers import AutoModelForCTC, Wav2Vec2Processor\n",
    "\n",
    "model = AutoModelForCTC.from_pretrained(\"kavsss/wav2vec2-tune-timit-asr-for-phoneme\")\n",
    "processor = Wav2Vec2Processor.from_pretrained(\"kavsss/wav2vec2-tune-timit-asr-for-phoneme\")"
   ]
  },
  {
   "cell_type": "code",
   "execution_count": 2,
   "metadata": {},
   "outputs": [],
   "source": [
    "import torch"
   ]
  },
  {
   "cell_type": "code",
   "execution_count": 3,
   "metadata": {},
   "outputs": [
    {
     "name": "stderr",
     "output_type": "stream",
     "text": [
      "Some weights of Wav2Vec2ForCTC were not initialized from the model checkpoint at facebook/wav2vec2-base-960h and are newly initialized: ['wav2vec2.masked_spec_embed']\n",
      "You should probably TRAIN this model on a down-stream task to be able to use it for predictions and inference.\n"
     ]
    }
   ],
   "source": [
    "from phoneme import extract_needed_data"
   ]
  },
  {
   "cell_type": "code",
   "execution_count": 4,
   "metadata": {},
   "outputs": [],
   "source": [
    "def prepare_dataset(batch):\n",
    "    #audio = batch[\"audio\"]\n",
    "\n",
    "    # batched output is \"un-batched\" to ensure mapping is correct\n",
    "    batch[\"input_values\"] = processor(batch[\"audio_arr\"], sampling_rate=16000).input_values[0]\n",
    "    \n",
    "    with processor.as_target_processor():\n",
    "        batch[\"labels\"] = processor(batch[\"phoneme\"]).input_ids\n",
    "    return batch"
   ]
  },
  {
   "cell_type": "code",
   "execution_count": 5,
   "metadata": {},
   "outputs": [],
   "source": [
    "#path = './TIMIT/data/TEST/DR7/FISB0/SA1'\n",
    "path = './TIMIT/data/TRAIN/DR3/MKXL0/SX195'\n",
    "audio_arr, line, phoneme = extract_needed_data(path)\n",
    "batch = {\n",
    "    \"audio_arr\": audio_arr,\n",
    "    \"line\": line,\n",
    "    \"phoneme\": phoneme,\n",
    "}"
   ]
  },
  {
   "cell_type": "code",
   "execution_count": 6,
   "metadata": {},
   "outputs": [],
   "source": [
    "batch = prepare_dataset(batch)"
   ]
  },
  {
   "cell_type": "code",
   "execution_count": 7,
   "metadata": {},
   "outputs": [
    {
     "data": {
      "text/plain": [
       "array([-0.00615697,  0.00373645, -0.00043596, ...,  0.00068598,\n",
       "        0.00926793, -0.00015791], dtype=float32)"
      ]
     },
     "execution_count": 7,
     "metadata": {},
     "output_type": "execute_result"
    }
   ],
   "source": [
    "batch[\"input_values\"]"
   ]
  },
  {
   "cell_type": "code",
   "execution_count": 8,
   "metadata": {},
   "outputs": [
    {
     "name": "stdout",
     "output_type": "stream",
     "text": [
      "[58, 0, 54, 0, 14, 0, 13, 0, 59, 0, 55, 0, 6, 0, 37, 0, 5, 0, 2, 0, 36, 0, 35, 0, 49, 0, 6, 0, 57, 0, 9, 0, 37, 0, 32, 0, 39, 0, 52, 0, 49]\n"
     ]
    }
   ],
   "source": [
    "print(batch[\"labels\"])"
   ]
  },
  {
   "cell_type": "code",
   "execution_count": 9,
   "metadata": {},
   "outputs": [],
   "source": [
    "def map_to_result(batch):\n",
    "  with torch.no_grad():\n",
    "    input_values = torch.tensor(batch[\"input_values\"], device=\"cpu\").unsqueeze(0)\n",
    "    logits = model(input_values).logits\n",
    "\n",
    "  pred_ids = torch.argmax(logits, dim=-1)\n",
    "  batch[\"pred_str\"] = processor.batch_decode(pred_ids)[0]\n",
    "  batch[\"pred_phoneme\"] = processor.decode(batch[\"labels\"], group_tokens=False)\n",
    "  \n",
    "  return batch\n",
    "\n",
    "#results = timit[\"test\"].map(map_to_result, remove_columns=timit[\"test\"].column_names)"
   ]
  },
  {
   "cell_type": "code",
   "execution_count": 10,
   "metadata": {},
   "outputs": [],
   "source": [
    "output = map_to_result(batch)"
   ]
  },
  {
   "cell_type": "code",
   "execution_count": 11,
   "metadata": {},
   "outputs": [
    {
     "data": {
      "text/plain": [
       "'w|uh|dcl|d|y|uw|ax|l|aw|ae|kcl|k|s|ax|v|ay|l|ix|n|tcl|s'"
      ]
     },
     "execution_count": 11,
     "metadata": {},
     "output_type": "execute_result"
    }
   ],
   "source": [
    "batch[\"phoneme\"]"
   ]
  },
  {
   "cell_type": "code",
   "execution_count": 12,
   "metadata": {},
   "outputs": [],
   "source": [
    "with processor.as_target_processor():\n",
    "  real = processor(batch[\"phoneme\"]).input_ids"
   ]
  },
  {
   "cell_type": "code",
   "execution_count": 13,
   "metadata": {},
   "outputs": [
    {
     "name": "stdout",
     "output_type": "stream",
     "text": [
      "[58, 0, 54, 0, 14, 0, 13, 0, 59, 0, 55, 0, 6, 0, 37, 0, 5, 0, 2, 0, 36, 0, 35, 0, 49, 0, 6, 0, 57, 0, 9, 0, 37, 0, 32, 0, 39, 0, 52, 0, 49]\n"
     ]
    }
   ],
   "source": [
    "print(real)"
   ]
  },
  {
   "cell_type": "code",
   "execution_count": 14,
   "metadata": {},
   "outputs": [],
   "source": [
    "pred_phoneme_style = '|'.join(output[\"pred_phoneme\"].split())"
   ]
  },
  {
   "cell_type": "code",
   "execution_count": 16,
   "metadata": {},
   "outputs": [],
   "source": [
    "with processor.as_target_processor():\n",
    "  pred = processor(pred_phoneme_style).input_ids"
   ]
  },
  {
   "cell_type": "code",
   "execution_count": 17,
   "metadata": {},
   "outputs": [
    {
     "name": "stdout",
     "output_type": "stream",
     "text": [
      "[58, 0, 54, 0, 14, 0, 13, 0, 59, 0, 55, 0, 6, 0, 37, 0, 5, 0, 2, 0, 36, 0, 35, 0, 49, 0, 6, 0, 57, 0, 9, 0, 37, 0, 32, 0, 39, 0, 52, 0, 49]\n"
     ]
    }
   ],
   "source": [
    "print(pred)"
   ]
  },
  {
   "cell_type": "code",
   "execution_count": 262,
   "metadata": {},
   "outputs": [],
   "source": [
    "#from analysis import compute_alingment, analyze_alingment, calculate_confidence"
   ]
  },
  {
   "cell_type": "code",
   "execution_count": 29,
   "metadata": {},
   "outputs": [],
   "source": [
    "import numpy as np\n",
    "from fastdtw import dtw"
   ]
  },
  {
   "cell_type": "code",
   "execution_count": 30,
   "metadata": {},
   "outputs": [],
   "source": [
    "def compute_alingment(pho1, pho2):\n",
    "    pho1 = np.array(pho1)\n",
    "    pho2 = np.array(pho2)\n",
    "    _, path = dtw(pho1, pho2)#, keep_internals = True)\n",
    "    return path\n",
    "\n",
    "def analyze_alingment(path, pho1, pho2):\n",
    "    matches = []\n",
    "    mismatches = []\n",
    "    #for i, j in zip(alingment[1:]):\n",
    "    #print(list(itertools.chain(alingment[1:])))\n",
    "    for i, j in path:\n",
    "        if pho1[i] == pho2[j]:\n",
    "            matches.append((pho1[i], pho2[j]))\n",
    "        else:\n",
    "            mismatches.append((pho1[i], pho2[j]))\n",
    "    return matches, mismatches\n",
    "\n",
    "def calculate_confidence(pho1, pho2):\n",
    "    path = compute_alingment(pho1, pho2)\n",
    "    matches, mismatches = analyze_alingment(path, pho1, pho2)\n",
    "    max_distance = max(len(matches), len(mismatches))\n",
    "    confidence = 1 - (len(mismatches) / max_distance)\n",
    "    return confidence"
   ]
  },
  {
   "cell_type": "code",
   "execution_count": 31,
   "metadata": {},
   "outputs": [
    {
     "name": "stdout",
     "output_type": "stream",
     "text": [
      "[(0, 0), (1, 1), (2, 2), (3, 3), (4, 4), (5, 5), (6, 6), (7, 7), (8, 8), (9, 9), (10, 10), (11, 11), (12, 12), (13, 13), (14, 14), (15, 15), (16, 16), (17, 17), (18, 18), (19, 19), (20, 20), (21, 21), (22, 22), (23, 23), (24, 24), (25, 25), (26, 26), (27, 27), (28, 28), (29, 29), (30, 30), (31, 31), (32, 32), (33, 33), (34, 34), (35, 35), (36, 36), (37, 37), (38, 38), (39, 39), (40, 40)]\n"
     ]
    }
   ],
   "source": [
    "path = compute_alingment(np.array(real), np.array(pred))\n",
    "print(path)"
   ]
  },
  {
   "cell_type": "code",
   "execution_count": 32,
   "metadata": {},
   "outputs": [
    {
     "name": "stdout",
     "output_type": "stream",
     "text": [
      "[(58, 58), (0, 0), (54, 54), (0, 0), (14, 14), (0, 0), (13, 13), (0, 0), (59, 59), (0, 0), (55, 55), (0, 0), (6, 6), (0, 0), (37, 37), (0, 0), (5, 5), (0, 0), (2, 2), (0, 0), (36, 36), (0, 0), (35, 35), (0, 0), (49, 49), (0, 0), (6, 6), (0, 0), (57, 57), (0, 0), (9, 9), (0, 0), (37, 37), (0, 0), (32, 32), (0, 0), (39, 39), (0, 0), (52, 52), (0, 0), (49, 49)]\n"
     ]
    }
   ],
   "source": [
    "match, mismatch = analyze_alingment(path, real, pred)\n",
    "print(match)"
   ]
  },
  {
   "cell_type": "code",
   "execution_count": 33,
   "metadata": {},
   "outputs": [
    {
     "name": "stdout",
     "output_type": "stream",
     "text": [
      "[]\n"
     ]
    }
   ],
   "source": [
    "print(mismatch)"
   ]
  },
  {
   "cell_type": "code",
   "execution_count": 34,
   "metadata": {},
   "outputs": [
    {
     "name": "stdout",
     "output_type": "stream",
     "text": [
      "1.0\n"
     ]
    }
   ],
   "source": [
    "confidence = calculate_confidence(real, pred)\n",
    "print(confidence)"
   ]
  },
  {
   "cell_type": "code",
   "execution_count": 35,
   "metadata": {},
   "outputs": [
    {
     "data": {
      "text/plain": [
       "100.0"
      ]
     },
     "execution_count": 35,
     "metadata": {},
     "output_type": "execute_result"
    }
   ],
   "source": [
    "round(confidence*100, 2)"
   ]
  },
  {
   "cell_type": "code",
   "execution_count": null,
   "metadata": {},
   "outputs": [],
   "source": []
  },
  {
   "cell_type": "code",
   "execution_count": null,
   "metadata": {},
   "outputs": [],
   "source": []
  }
 ],
 "metadata": {
  "kernelspec": {
   "display_name": "accent-capstone",
   "language": "python",
   "name": "python3"
  },
  "language_info": {
   "codemirror_mode": {
    "name": "ipython",
    "version": 3
   },
   "file_extension": ".py",
   "mimetype": "text/x-python",
   "name": "python",
   "nbconvert_exporter": "python",
   "pygments_lexer": "ipython3",
   "version": "3.8.19"
  }
 },
 "nbformat": 4,
 "nbformat_minor": 2
}
