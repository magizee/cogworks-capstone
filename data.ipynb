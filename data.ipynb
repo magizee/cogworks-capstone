{
 "cells": [
  {
   "cell_type": "code",
   "execution_count": 2,
   "metadata": {},
   "outputs": [],
   "source": [
    "from datasets import load_dataset, load_metric, Audio, Dataset\n",
    "from tqdm.auto import tqdm\n",
    "\n",
    "import os\n",
    "import numpy as np\n",
    "import pandas as pd\n",
    "import torchaudio"
   ]
  },
  {
   "cell_type": "code",
   "execution_count": 3,
   "metadata": {},
   "outputs": [],
   "source": [
    "os.environ[\"WANDB_DISABLED\"] = \"true\"\n"
   ]
  },
  {
   "cell_type": "code",
   "execution_count": 5,
   "metadata": {},
   "outputs": [],
   "source": [
    "df_train = pd.read_csv('train_data.csv')\n",
    "df_test = pd.read_csv('test_data.csv')\n",
    "df = pd.concat([df_train, df_test])\n",
    "df = df[df['is_converted_audio'] == False]"
   ]
  },
  {
   "cell_type": "code",
   "execution_count": 6,
   "metadata": {},
   "outputs": [
    {
     "data": {
      "text/html": [
       "<div>\n",
       "<style scoped>\n",
       "    .dataframe tbody tr th:only-of-type {\n",
       "        vertical-align: middle;\n",
       "    }\n",
       "\n",
       "    .dataframe tbody tr th {\n",
       "        vertical-align: top;\n",
       "    }\n",
       "\n",
       "    .dataframe thead th {\n",
       "        text-align: right;\n",
       "    }\n",
       "</style>\n",
       "<table border=\"1\" class=\"dataframe\">\n",
       "  <thead>\n",
       "    <tr style=\"text-align: right;\">\n",
       "      <th></th>\n",
       "      <th>index</th>\n",
       "      <th>test_or_train</th>\n",
       "      <th>dialect_region</th>\n",
       "      <th>speaker_id</th>\n",
       "      <th>filename</th>\n",
       "      <th>path_from_data_dir</th>\n",
       "      <th>path_from_data_dir_windows</th>\n",
       "      <th>is_converted_audio</th>\n",
       "      <th>is_audio</th>\n",
       "      <th>is_word_file</th>\n",
       "      <th>is_phonetic_file</th>\n",
       "      <th>is_sentence_file</th>\n",
       "    </tr>\n",
       "  </thead>\n",
       "  <tbody>\n",
       "    <tr>\n",
       "      <th>1</th>\n",
       "      <td>2.0</td>\n",
       "      <td>TRAIN</td>\n",
       "      <td>DR4</td>\n",
       "      <td>MMDM0</td>\n",
       "      <td>SI1311.PHN</td>\n",
       "      <td>TRAIN/DR4/MMDM0/SI1311.PHN</td>\n",
       "      <td>TRAIN\\\\DR4\\\\MMDM0\\\\SI1311.PHN</td>\n",
       "      <td>False</td>\n",
       "      <td>False</td>\n",
       "      <td>False</td>\n",
       "      <td>True</td>\n",
       "      <td>False</td>\n",
       "    </tr>\n",
       "    <tr>\n",
       "      <th>2</th>\n",
       "      <td>3.0</td>\n",
       "      <td>TRAIN</td>\n",
       "      <td>DR4</td>\n",
       "      <td>MMDM0</td>\n",
       "      <td>SI1311.WRD</td>\n",
       "      <td>TRAIN/DR4/MMDM0/SI1311.WRD</td>\n",
       "      <td>TRAIN\\\\DR4\\\\MMDM0\\\\SI1311.WRD</td>\n",
       "      <td>False</td>\n",
       "      <td>False</td>\n",
       "      <td>True</td>\n",
       "      <td>False</td>\n",
       "      <td>False</td>\n",
       "    </tr>\n",
       "    <tr>\n",
       "      <th>3</th>\n",
       "      <td>4.0</td>\n",
       "      <td>TRAIN</td>\n",
       "      <td>DR4</td>\n",
       "      <td>MMDM0</td>\n",
       "      <td>SX321.PHN</td>\n",
       "      <td>TRAIN/DR4/MMDM0/SX321.PHN</td>\n",
       "      <td>TRAIN\\\\DR4\\\\MMDM0\\\\SX321.PHN</td>\n",
       "      <td>False</td>\n",
       "      <td>False</td>\n",
       "      <td>False</td>\n",
       "      <td>True</td>\n",
       "      <td>False</td>\n",
       "    </tr>\n",
       "    <tr>\n",
       "      <th>4</th>\n",
       "      <td>5.0</td>\n",
       "      <td>TRAIN</td>\n",
       "      <td>DR4</td>\n",
       "      <td>MMDM0</td>\n",
       "      <td>SX321.WRD</td>\n",
       "      <td>TRAIN/DR4/MMDM0/SX321.WRD</td>\n",
       "      <td>TRAIN\\\\DR4\\\\MMDM0\\\\SX321.WRD</td>\n",
       "      <td>False</td>\n",
       "      <td>False</td>\n",
       "      <td>True</td>\n",
       "      <td>False</td>\n",
       "      <td>False</td>\n",
       "    </tr>\n",
       "    <tr>\n",
       "      <th>5</th>\n",
       "      <td>6.0</td>\n",
       "      <td>TRAIN</td>\n",
       "      <td>DR4</td>\n",
       "      <td>MMDM0</td>\n",
       "      <td>SI681.TXT</td>\n",
       "      <td>TRAIN/DR4/MMDM0/SI681.TXT</td>\n",
       "      <td>TRAIN\\\\DR4\\\\MMDM0\\\\SI681.TXT</td>\n",
       "      <td>False</td>\n",
       "      <td>False</td>\n",
       "      <td>False</td>\n",
       "      <td>False</td>\n",
       "      <td>True</td>\n",
       "    </tr>\n",
       "    <tr>\n",
       "      <th>...</th>\n",
       "      <td>...</td>\n",
       "      <td>...</td>\n",
       "      <td>...</td>\n",
       "      <td>...</td>\n",
       "      <td>...</td>\n",
       "      <td>...</td>\n",
       "      <td>...</td>\n",
       "      <td>...</td>\n",
       "      <td>...</td>\n",
       "      <td>...</td>\n",
       "      <td>...</td>\n",
       "      <td>...</td>\n",
       "    </tr>\n",
       "    <tr>\n",
       "      <th>8394</th>\n",
       "      <td>8395.0</td>\n",
       "      <td>TEST</td>\n",
       "      <td>DR8</td>\n",
       "      <td>MPAM0</td>\n",
       "      <td>SX19.WAV</td>\n",
       "      <td>TEST/DR8/MPAM0/SX19.WAV</td>\n",
       "      <td>TEST\\\\DR8\\\\MPAM0\\\\SX19.WAV</td>\n",
       "      <td>False</td>\n",
       "      <td>True</td>\n",
       "      <td>False</td>\n",
       "      <td>False</td>\n",
       "      <td>False</td>\n",
       "    </tr>\n",
       "    <tr>\n",
       "      <th>8395</th>\n",
       "      <td>8396.0</td>\n",
       "      <td>TEST</td>\n",
       "      <td>DR8</td>\n",
       "      <td>MPAM0</td>\n",
       "      <td>SX109.TXT</td>\n",
       "      <td>TEST/DR8/MPAM0/SX109.TXT</td>\n",
       "      <td>TEST\\\\DR8\\\\MPAM0\\\\SX109.TXT</td>\n",
       "      <td>False</td>\n",
       "      <td>False</td>\n",
       "      <td>False</td>\n",
       "      <td>False</td>\n",
       "      <td>True</td>\n",
       "    </tr>\n",
       "    <tr>\n",
       "      <th>8397</th>\n",
       "      <td>8398.0</td>\n",
       "      <td>TEST</td>\n",
       "      <td>DR8</td>\n",
       "      <td>MPAM0</td>\n",
       "      <td>SX289.WRD</td>\n",
       "      <td>TEST/DR8/MPAM0/SX289.WRD</td>\n",
       "      <td>TEST\\\\DR8\\\\MPAM0\\\\SX289.WRD</td>\n",
       "      <td>False</td>\n",
       "      <td>False</td>\n",
       "      <td>True</td>\n",
       "      <td>False</td>\n",
       "      <td>False</td>\n",
       "    </tr>\n",
       "    <tr>\n",
       "      <th>8398</th>\n",
       "      <td>8399.0</td>\n",
       "      <td>TEST</td>\n",
       "      <td>DR8</td>\n",
       "      <td>MPAM0</td>\n",
       "      <td>SX109.WAV</td>\n",
       "      <td>TEST/DR8/MPAM0/SX109.WAV</td>\n",
       "      <td>TEST\\\\DR8\\\\MPAM0\\\\SX109.WAV</td>\n",
       "      <td>False</td>\n",
       "      <td>True</td>\n",
       "      <td>False</td>\n",
       "      <td>False</td>\n",
       "      <td>False</td>\n",
       "    </tr>\n",
       "    <tr>\n",
       "      <th>8399</th>\n",
       "      <td>8400.0</td>\n",
       "      <td>TEST</td>\n",
       "      <td>DR8</td>\n",
       "      <td>MPAM0</td>\n",
       "      <td>SX289.PHN</td>\n",
       "      <td>TEST/DR8/MPAM0/SX289.PHN</td>\n",
       "      <td>TEST\\\\DR8\\\\MPAM0\\\\SX289.PHN</td>\n",
       "      <td>False</td>\n",
       "      <td>False</td>\n",
       "      <td>False</td>\n",
       "      <td>True</td>\n",
       "      <td>False</td>\n",
       "    </tr>\n",
       "  </tbody>\n",
       "</table>\n",
       "<p>25200 rows × 12 columns</p>\n",
       "</div>"
      ],
      "text/plain": [
       "       index test_or_train dialect_region speaker_id    filename  \\\n",
       "1        2.0         TRAIN            DR4      MMDM0  SI1311.PHN   \n",
       "2        3.0         TRAIN            DR4      MMDM0  SI1311.WRD   \n",
       "3        4.0         TRAIN            DR4      MMDM0   SX321.PHN   \n",
       "4        5.0         TRAIN            DR4      MMDM0   SX321.WRD   \n",
       "5        6.0         TRAIN            DR4      MMDM0   SI681.TXT   \n",
       "...      ...           ...            ...        ...         ...   \n",
       "8394  8395.0          TEST            DR8      MPAM0    SX19.WAV   \n",
       "8395  8396.0          TEST            DR8      MPAM0   SX109.TXT   \n",
       "8397  8398.0          TEST            DR8      MPAM0   SX289.WRD   \n",
       "8398  8399.0          TEST            DR8      MPAM0   SX109.WAV   \n",
       "8399  8400.0          TEST            DR8      MPAM0   SX289.PHN   \n",
       "\n",
       "              path_from_data_dir     path_from_data_dir_windows  \\\n",
       "1     TRAIN/DR4/MMDM0/SI1311.PHN  TRAIN\\\\DR4\\\\MMDM0\\\\SI1311.PHN   \n",
       "2     TRAIN/DR4/MMDM0/SI1311.WRD  TRAIN\\\\DR4\\\\MMDM0\\\\SI1311.WRD   \n",
       "3      TRAIN/DR4/MMDM0/SX321.PHN   TRAIN\\\\DR4\\\\MMDM0\\\\SX321.PHN   \n",
       "4      TRAIN/DR4/MMDM0/SX321.WRD   TRAIN\\\\DR4\\\\MMDM0\\\\SX321.WRD   \n",
       "5      TRAIN/DR4/MMDM0/SI681.TXT   TRAIN\\\\DR4\\\\MMDM0\\\\SI681.TXT   \n",
       "...                          ...                            ...   \n",
       "8394     TEST/DR8/MPAM0/SX19.WAV     TEST\\\\DR8\\\\MPAM0\\\\SX19.WAV   \n",
       "8395    TEST/DR8/MPAM0/SX109.TXT    TEST\\\\DR8\\\\MPAM0\\\\SX109.TXT   \n",
       "8397    TEST/DR8/MPAM0/SX289.WRD    TEST\\\\DR8\\\\MPAM0\\\\SX289.WRD   \n",
       "8398    TEST/DR8/MPAM0/SX109.WAV    TEST\\\\DR8\\\\MPAM0\\\\SX109.WAV   \n",
       "8399    TEST/DR8/MPAM0/SX289.PHN    TEST\\\\DR8\\\\MPAM0\\\\SX289.PHN   \n",
       "\n",
       "     is_converted_audio is_audio is_word_file is_phonetic_file  \\\n",
       "1                 False    False        False             True   \n",
       "2                 False    False         True            False   \n",
       "3                 False    False        False             True   \n",
       "4                 False    False         True            False   \n",
       "5                 False    False        False            False   \n",
       "...                 ...      ...          ...              ...   \n",
       "8394              False     True        False            False   \n",
       "8395              False    False        False            False   \n",
       "8397              False    False         True            False   \n",
       "8398              False     True        False            False   \n",
       "8399              False    False        False             True   \n",
       "\n",
       "     is_sentence_file  \n",
       "1               False  \n",
       "2               False  \n",
       "3               False  \n",
       "4               False  \n",
       "5                True  \n",
       "...               ...  \n",
       "8394            False  \n",
       "8395             True  \n",
       "8397            False  \n",
       "8398            False  \n",
       "8399            False  \n",
       "\n",
       "[25200 rows x 12 columns]"
      ]
     },
     "execution_count": 6,
     "metadata": {},
     "output_type": "execute_result"
    }
   ],
   "source": [
    "df"
   ]
  },
  {
   "cell_type": "code",
   "execution_count": 9,
   "metadata": {},
   "outputs": [
    {
     "data": {
      "application/vnd.jupyter.widget-view+json": {
       "model_id": "064fcbfa11c84ee9b51df75ea326d94d",
       "version_major": 2,
       "version_minor": 0
      },
      "text/plain": [
       "0it [00:00, ?it/s]"
      ]
     },
     "metadata": {},
     "output_type": "display_data"
    }
   ],
   "source": [
    "current_directory = os.getcwd()\n",
    "\n",
    "# Path to the \"data\" directory\n",
    "data_path = os.path.join(current_directory, 'data')\n",
    "\n",
    "data = {}\n",
    "\n",
    "for idx, row in tqdm(df.iterrows()):\n",
    "    path = row['path_from_data_dir']\n",
    "    entry_id = path.split('.')[0]\n",
    "\n",
    "    if entry_id not in data:\n",
    "        data[entry_id] = {}\n",
    "\n",
    "    if row['is_audio'] is True:\n",
    "        data[entry_id]['audio_file'] = os.path.join(data_path, path)\n",
    "    elif row['is_word_file'] is True:\n",
    "        data[entry_id]['word_file'] = os.path.join(data_path, path)\n",
    "    elif row['is_phonetic_file'] is True:\n",
    "        data[entry_id]['phonetic_file'] = os.path.join(data_path, path)"
   ]
  },
  {
   "cell_type": "code",
   "execution_count": 10,
   "metadata": {},
   "outputs": [],
   "source": [
    "import random\n",
    "\n",
    "keys = [key for key in data.keys() if len(data[key]) == 3]\n",
    "random.Random(101).shuffle(keys)\n",
    "\n",
    "num_train = int(len(keys) * 0.8)\n",
    "num_valid = int(len(keys) * 0.1)\n",
    "num_test = len(keys) - num_train - num_valid\n",
    "\n",
    "train_keys = keys[:num_train]\n",
    "valid_keys = keys[num_train:num_train + num_valid]\n",
    "test_keys = keys[-num_test:]"
   ]
  },
  {
   "cell_type": "code",
   "execution_count": 11,
   "metadata": {},
   "outputs": [],
   "source": [
    "train = { key:data[key] for key in train_keys }\n",
    "valid = { key:data[key] for key in valid_keys }\n",
    "test  = { key:data[key] for key in test_keys }"
   ]
  },
  {
   "cell_type": "code",
   "execution_count": 12,
   "metadata": {},
   "outputs": [],
   "source": [
    "import librosa\n",
    "\n",
    "def get_durations(dict_data):\n",
    "    total_durations = 0\n",
    "\n",
    "    for entry in dict_data.values():\n",
    "        audio_data, _ = librosa.load(entry['audio_file'], sr=16_000)\n",
    "        duration = len(audio_data) / 16_000\n",
    "        total_durations += duration\n",
    "\n",
    "    return int(total_durations)"
   ]
  },
  {
   "cell_type": "code",
   "execution_count": 14,
   "metadata": {},
   "outputs": [
    {
     "name": "stdout",
     "output_type": "stream",
     "text": [
      "Duration of Train: 137 mns\n",
      "Duration of Valid: 17 mns\n",
      "Duration of Test : 17 mns\n"
     ]
    }
   ],
   "source": [
    "print(f\"Duration of Train: {get_durations(train) // 60} mns\")\n",
    "print(f\"Duration of Valid: {get_durations(valid) // 60} mns\")\n",
    "print(f\"Duration of Test : {get_durations(test) // 60} mns\")"
   ]
  },
  {
   "cell_type": "code",
   "execution_count": 16,
   "metadata": {},
   "outputs": [],
   "source": [
    "import json\n",
    "\n",
    "with open(\"custom_train.json\", \"w\") as f:\n",
    "    json.dump(train, f)\n",
    "with open(\"custom_valid.json\", \"w\") as f:\n",
    "    json.dump(valid, f)\n",
    "with open(\"custom_test.json\", \"w\") as f:\n",
    "    json.dump(test, f)"
   ]
  },
  {
   "cell_type": "code",
   "execution_count": 17,
   "metadata": {},
   "outputs": [],
   "source": [
    "def convert_to_feature_dict(data_dict):\n",
    "    # convert each feature into an array instead\n",
    "    audio_files = []\n",
    "    word_files = []\n",
    "    phonetic_files = []\n",
    "    for key, value in data_dict.items():\n",
    "        audio_files.append(value['audio_file'])\n",
    "        word_files.append(value['word_file'])\n",
    "        phonetic_files.append(value['phonetic_file'])\n",
    "    \n",
    "    return {\n",
    "        'audio_file': audio_files,\n",
    "        'word_file': word_files,\n",
    "        'phonetic_file': phonetic_files\n",
    "    }"
   ]
  },
  {
   "cell_type": "code",
   "execution_count": 18,
   "metadata": {},
   "outputs": [],
   "source": [
    "train = convert_to_feature_dict(train)\n",
    "valid = convert_to_feature_dict(valid)\n",
    "test  = convert_to_feature_dict(test)"
   ]
  },
  {
   "cell_type": "code",
   "execution_count": 19,
   "metadata": {},
   "outputs": [],
   "source": [
    "train_dataset = Dataset.from_dict(train)\n",
    "valid_dataset = Dataset.from_dict(valid)\n",
    "test_dataset = Dataset.from_dict(test)"
   ]
  },
  {
   "cell_type": "code",
   "execution_count": 20,
   "metadata": {},
   "outputs": [
    {
     "name": "stdout",
     "output_type": "stream",
     "text": [
      "Dataset({\n",
      "    features: ['audio_file', 'word_file', 'phonetic_file'],\n",
      "    num_rows: 2688\n",
      "})\n"
     ]
    }
   ],
   "source": [
    "print(train_dataset)"
   ]
  },
  {
   "cell_type": "code",
   "execution_count": 21,
   "metadata": {},
   "outputs": [],
   "source": [
    "def read_text_file(filepath):\n",
    "    with open(filepath) as f:\n",
    "        tokens = [line.split()[-1] for line in f]\n",
    "        return \" \".join(tokens)\n",
    "    \n",
    "def prepare_text_data(item):\n",
    "    item['text'] = read_text_file(item['word_file'])\n",
    "    item['phonetic'] = read_text_file(item['phonetic_file'])\n",
    "    return item"
   ]
  },
  {
   "cell_type": "code",
   "execution_count": 22,
   "metadata": {},
   "outputs": [
    {
     "data": {
      "application/vnd.jupyter.widget-view+json": {
       "model_id": "75ef0b1680c047b3a0c215aeea2be299",
       "version_major": 2,
       "version_minor": 0
      },
      "text/plain": [
       "Map:   0%|          | 0/2688 [00:00<?, ? examples/s]"
      ]
     },
     "metadata": {},
     "output_type": "display_data"
    },
    {
     "data": {
      "application/vnd.jupyter.widget-view+json": {
       "model_id": "949991182e2b463e94fd4ec37549a2ba",
       "version_major": 2,
       "version_minor": 0
      },
      "text/plain": [
       "Map:   0%|          | 0/336 [00:00<?, ? examples/s]"
      ]
     },
     "metadata": {},
     "output_type": "display_data"
    },
    {
     "data": {
      "application/vnd.jupyter.widget-view+json": {
       "model_id": "2a0d987277ea4040844752502a77fee1",
       "version_major": 2,
       "version_minor": 0
      },
      "text/plain": [
       "Map:   0%|          | 0/336 [00:00<?, ? examples/s]"
      ]
     },
     "metadata": {},
     "output_type": "display_data"
    }
   ],
   "source": [
    "train_dataset = (train_dataset\n",
    "                 .map(prepare_text_data)\n",
    "                 .remove_columns([\"word_file\", \"phonetic_file\"]))\n",
    "valid_dataset = (valid_dataset\n",
    "                 .map(prepare_text_data)\n",
    "                 .remove_columns([\"word_file\", \"phonetic_file\"]))\n",
    "test_dataset  = (test_dataset\n",
    "                 .map(prepare_text_data)\n",
    "                 .remove_columns([\"word_file\", \"phonetic_file\"]))"
   ]
  },
  {
   "cell_type": "markdown",
   "metadata": {},
   "source": []
  },
  {
   "cell_type": "code",
   "execution_count": 25,
   "metadata": {},
   "outputs": [
    {
     "name": "stdout",
     "output_type": "stream",
     "text": [
      "num of train phones:\t 61\n"
     ]
    }
   ],
   "source": [
    "train_phonetics = [phone for x in train_dataset for phone in x['phonetic'].split()]\n",
    "print(\"num of train phones:\\t\", len(set(train_phonetics)))"
   ]
  },
  {
   "cell_type": "code",
   "execution_count": 26,
   "metadata": {},
   "outputs": [],
   "source": [
    "# TimitBet 61 phoneme mapping to 39 phonemes\n",
    "# by Lee, K.-F., & Hon, H.-W. (1989). Speaker-independent phone recognition using hidden Markov models. IEEE Transactions on Acoustics, Speech, and Signal Processing, 37(11), 1641–1648. doi:10.1109/29.46546 \n",
    "phon61_map39 = {\n",
    "    'iy':'iy',  'ih':'ih',   'eh':'eh',  'ae':'ae',    'ix':'ih',  'ax':'ah',   'ah':'ah',  'uw':'uw',\n",
    "    'ux':'uw',  'uh':'uh',   'ao':'aa',  'aa':'aa',    'ey':'ey',  'ay':'ay',   'oy':'oy',  'aw':'aw',\n",
    "    'ow':'ow',  'l':'l',     'el':'l',  'r':'r',      'y':'y',    'w':'w',     'er':'er',  'axr':'er',\n",
    "    'm':'m',    'em':'m',     'n':'n',    'nx':'n',     'en':'n',  'ng':'ng',   'eng':'ng', 'ch':'ch',\n",
    "    'jh':'jh',  'dh':'dh',   'b':'b',    'd':'d',      'dx':'dx',  'g':'g',     'p':'p',    't':'t',\n",
    "    'k':'k',    'z':'z',     'zh':'sh',  'v':'v',      'f':'f',    'th':'th',   's':'s',    'sh':'sh',\n",
    "    'hh':'hh',  'hv':'hh',   'pcl':'h#', 'tcl':'h#', 'kcl':'h#', 'qcl':'h#','bcl':'h#','dcl':'h#',\n",
    "    'gcl':'h#','h#':'h#',  '#h':'h#',  'pau':'h#', 'epi': 'h#','nx':'n',   'ax-h':'ah','q':'h#' \n",
    "}\n",
    "\n",
    "def convert_phon61_to_phon39(sentence):\n",
    "    tokens = [phon61_map39[x] for x in sentence.split()]\n",
    "    return \" \".join(tokens)\n",
    "\n",
    "def normalize_phones(item):\n",
    "    item['phonetic'] = convert_phon61_to_phon39(item['phonetic'])\n",
    "    return item"
   ]
  },
  {
   "cell_type": "code",
   "execution_count": 27,
   "metadata": {},
   "outputs": [
    {
     "data": {
      "application/vnd.jupyter.widget-view+json": {
       "model_id": "b7ba0e69a6e347bf93ef07f6aec82466",
       "version_major": 2,
       "version_minor": 0
      },
      "text/plain": [
       "Map:   0%|          | 0/2688 [00:00<?, ? examples/s]"
      ]
     },
     "metadata": {},
     "output_type": "display_data"
    },
    {
     "data": {
      "application/vnd.jupyter.widget-view+json": {
       "model_id": "ef90de24b6bb49978966fe1196bf88eb",
       "version_major": 2,
       "version_minor": 0
      },
      "text/plain": [
       "Map:   0%|          | 0/336 [00:00<?, ? examples/s]"
      ]
     },
     "metadata": {},
     "output_type": "display_data"
    },
    {
     "data": {
      "application/vnd.jupyter.widget-view+json": {
       "model_id": "5649ad1202e34405b246db71957b3fae",
       "version_major": 2,
       "version_minor": 0
      },
      "text/plain": [
       "Map:   0%|          | 0/336 [00:00<?, ? examples/s]"
      ]
     },
     "metadata": {},
     "output_type": "display_data"
    }
   ],
   "source": [
    "train_dataset = train_dataset.map(normalize_phones)\n",
    "valid_dataset = valid_dataset.map(normalize_phones)\n",
    "test_dataset = test_dataset.map(normalize_phones)"
   ]
  },
  {
   "cell_type": "code",
   "execution_count": 28,
   "metadata": {},
   "outputs": [
    {
     "name": "stdout",
     "output_type": "stream",
     "text": [
      "num of train phones:\t 39\n",
      "num of valid phones:\t 39\n",
      "num of test phones:\t 39\n"
     ]
    }
   ],
   "source": [
    "train_phonetics = [phone for x in train_dataset for phone in x['phonetic'].split()]\n",
    "valid_phonetics = [phone for x in valid_dataset for phone in x['phonetic'].split()]\n",
    "test_phonetics = [phone for x in test_dataset for phone in x['phonetic'].split()]\n",
    "\n",
    "print(\"num of train phones:\\t\", len(set(train_phonetics)))\n",
    "print(\"num of valid phones:\\t\", len(set(valid_phonetics)))\n",
    "print(\"num of test phones:\\t\", len(set(test_phonetics)))"
   ]
  },
  {
   "cell_type": "code",
   "execution_count": 29,
   "metadata": {},
   "outputs": [],
   "source": [
    "phone_vocabs = set(train_phonetics)\n",
    "phone_vocabs.remove('h#')\n",
    "phone_vocabs = sorted(phone_vocabs)\n",
    "\n",
    "def count_frequency(phonetics):\n",
    "    phone_counts = {phone: 0 for phone in phone_vocabs}\n",
    "    for phone in phonetics:\n",
    "        if phone in phone_vocabs:\n",
    "            phone_counts[phone] += 1\n",
    "    # eliminate h# for visualization purposes\n",
    "    return [phone_counts[phone] for phone in phone_vocabs] "
   ]
  },
  {
   "cell_type": "code",
   "execution_count": 30,
   "metadata": {},
   "outputs": [],
   "source": [
    "train_phone_counts = count_frequency(train_phonetics)\n",
    "valid_phone_counts = count_frequency(valid_phonetics)\n",
    "test_phone_counts  = count_frequency(test_phonetics)"
   ]
  },
  {
   "cell_type": "code",
   "execution_count": 31,
   "metadata": {},
   "outputs": [],
   "source": [
    "train_phone_ratio = [count / sum(train_phone_counts) for count in train_phone_counts]\n",
    "valid_phone_ratio = [count / sum(valid_phone_counts) for count in valid_phone_counts]\n",
    "test_phone_ratio  = [count / sum(test_phone_counts) for count in test_phone_counts]"
   ]
  },
  {
   "cell_type": "code",
   "execution_count": 32,
   "metadata": {},
   "outputs": [
    {
     "data": {
      "image/png": "[encoded data removed]",
      "text/plain": [
       "<Figure size 2500x1000 with 1 Axes>"
      ]
     },
     "metadata": {},
     "output_type": "display_data"
    }
   ],
   "source": [
    "import matplotlib.pyplot as plt\n",
    "\n",
    "plt.figure(figsize=(25,10))\n",
    "\n",
    "plt.bar(phone_vocabs, train_phone_ratio)\n",
    "plt.bar(phone_vocabs, valid_phone_ratio, bottom=train_phone_ratio)\n",
    "plt.bar(phone_vocabs, test_phone_ratio, bottom=[(x+y) for x,y in zip(train_phone_ratio, valid_phone_ratio)])\n",
    "\n",
    "plt.show()"
   ]
  },
  {
   "cell_type": "code",
   "execution_count": 33,
   "metadata": {},
   "outputs": [],
   "source": [
    "train_dataset = (train_dataset\n",
    "                 .cast_column(\"audio_file\", Audio(sampling_rate=16_000))\n",
    "                 .rename_column('audio_file', 'audio'))\n",
    "valid_dataset = (valid_dataset\n",
    "                 .cast_column(\"audio_file\", Audio(sampling_rate=16_000))\n",
    "                 .rename_column('audio_file', 'audio'))\n",
    "test_dataset = (test_dataset\n",
    "                 .cast_column(\"audio_file\", Audio(sampling_rate=16_000))\n",
    "                 .rename_column('audio_file', 'audio'))"
   ]
  },
  {
   "cell_type": "code",
   "execution_count": 34,
   "metadata": {},
   "outputs": [
    {
     "data": {
      "text/plain": [
       "{'audio': {'path': 'c:\\\\Users\\\\mzhu2\\\\BWSI-2024\\\\cogworks-capstone\\\\data\\\\TEST/DR7/FISB0/SA1.WAV',\n",
       "  'array': array([-6.10351562e-05,  6.10351562e-05,  1.22070312e-04, ...,\n",
       "          9.15527344e-05,  3.66210938e-04, -3.05175781e-04]),\n",
       "  'sampling_rate': 16000},\n",
       " 'text': 'she had your dark suit in greasy wash water all year',\n",
       " 'phonetic': 'h# sh iy hh ae h# d y er h# d aa r h# k s uw h# ih n h# g r iy z iy w aa sh h# w aa dx er h# aa l y ih er h#'}"
      ]
     },
     "execution_count": 34,
     "metadata": {},
     "output_type": "execute_result"
    }
   ],
   "source": [
    "train_dataset[0]"
   ]
  },
  {
   "cell_type": "code",
   "execution_count": 35,
   "metadata": {},
   "outputs": [
    {
     "name": "stdout",
     "output_type": "stream",
     "text": [
      "Text: grandmother outgrew her upbringing in petticoats\n",
      "Phonetics: h# g r ae n m ah dh er h# aw h# g r uw hh er h# ah h# b r ih ng ih ng ih n h# p eh dx iy h# k ow h# t s h#\n",
      "Input array shape: (47309,)\n",
      "Sampling rate: 16000\n"
     ]
    },
    {
     "data": {
      "text/html": [
       "\n",
       "                <audio  controls=\"controls\" >\n",
       "                    <source src=\"data:audio/wav;base64,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\" type=\"audio/wav\" />\n",
       "                    Your browser does not support the audio element.\n",
       "                </audio>\n",
       "              "
      ],
      "text/plain": [
       "<IPython.lib.display.Audio object>"
      ]
     },
     "execution_count": 35,
     "metadata": {},
     "output_type": "execute_result"
    }
   ],
   "source": [
    "import IPython.display as ipd\n",
    "import numpy as np\n",
    "import random\n",
    "\n",
    "rand_int = random.randint(0, len(train_dataset)-1)\n",
    "\n",
    "print(\"Text:\", train_dataset[rand_int][\"text\"])\n",
    "print(\"Phonetics:\", train_dataset[rand_int][\"phonetic\"])\n",
    "print(\"Input array shape:\", train_dataset[rand_int][\"audio\"][\"array\"].shape)\n",
    "print(\"Sampling rate:\", train_dataset[rand_int][\"audio\"][\"sampling_rate\"])\n",
    "ipd.Audio(data=train_dataset[rand_int][\"audio\"][\"array\"], autoplay=False, rate=16000)"
   ]
  },
  {
   "cell_type": "code",
   "execution_count": 36,
   "metadata": {},
   "outputs": [],
   "source": [
    "vocab_train = list(set(train_phonetics)) + [' ']\n",
    "vocab_valid = list(set(valid_phonetics)) + [' ']\n",
    "vocab_test  = list(set(test_phonetics)) + [' ']"
   ]
  },
  {
   "cell_type": "code",
   "execution_count": 37,
   "metadata": {},
   "outputs": [
    {
     "name": "stdout",
     "output_type": "stream",
     "text": [
      "{' ': 0, 'aa': 1, 'ae': 2, 'ah': 3, 'aw': 4, 'ay': 5, 'b': 6, 'ch': 7, 'd': 8, 'dh': 9, 'dx': 10, 'eh': 11, 'er': 12, 'ey': 13, 'f': 14, 'g': 15, 'h#': 16, 'hh': 17, 'ih': 18, 'iy': 19, 'jh': 20, 'k': 21, 'l': 22, 'm': 23, 'n': 24, 'ng': 25, 'ow': 26, 'oy': 27, 'p': 28, 'r': 29, 's': 30, 'sh': 31, 't': 32, 'th': 33, 'uh': 34, 'uw': 35, 'v': 36, 'w': 37, 'y': 38, 'z': 39}\n"
     ]
    }
   ],
   "source": [
    "vocab_list = list(set(vocab_train + vocab_valid + vocab_test))\n",
    "vocab_dict = {v: k for k, v in enumerate(sorted(vocab_list))}\n",
    "\n",
    "print(vocab_dict)"
   ]
  },
  {
   "cell_type": "code",
   "execution_count": 38,
   "metadata": {},
   "outputs": [
    {
     "data": {
      "text/plain": [
       "42"
      ]
     },
     "execution_count": 38,
     "metadata": {},
     "output_type": "execute_result"
    }
   ],
   "source": [
    "vocab_dict[\"|\"] = vocab_dict[\" \"]\n",
    "del vocab_dict[\" \"]\n",
    "\n",
    "vocab_dict[\"[UNK]\"] = len(vocab_dict)\n",
    "vocab_dict[\"[PAD]\"] = len(vocab_dict)\n",
    "len(vocab_dict)"
   ]
  },
  {
   "cell_type": "code",
   "execution_count": 40,
   "metadata": {},
   "outputs": [],
   "source": [
    "# save vocab.json\n",
    "import json\n",
    "with open('vocab.json', 'w') as vocab_file:\n",
    "    json.dump(vocab_dict, vocab_file)\n"
   ]
  },
  {
   "cell_type": "code",
   "execution_count": null,
   "metadata": {},
   "outputs": [],
   "source": []
  }
 ],
 "metadata": {
  "kernelspec": {
   "display_name": "week4",
   "language": "python",
   "name": "python3"
  },
  "language_info": {
   "codemirror_mode": {
    "name": "ipython",
    "version": 3
   },
   "file_extension": ".py",
   "mimetype": "text/x-python",
   "name": "python",
   "nbconvert_exporter": "python",
   "pygments_lexer": "ipython3",
   "version": "3.12.4"
  }
 },
 "nbformat": 4,
 "nbformat_minor": 2
}
